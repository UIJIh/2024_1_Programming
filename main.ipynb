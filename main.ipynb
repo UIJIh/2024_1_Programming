{
 "cells": [
  {
   "cell_type": "code",
   "execution_count": null,
   "id": "b7a2dcb5-861a-4636-9293-d97ac107fe48",
   "metadata": {},
   "outputs": [],
   "source": [
    "from utils.model_manager import load_senti_model, load_summ_model\n",
    "from utils.diary_manager import load_diary\n",
    "from windows.gui import DiaryService\n",
    "# from diffusers import StableDiffusionPipeline\n",
    "import torch\n",
    "\n",
    "if __name__ == \"__main__\":\n",
    "    diary = load_diary()\n",
    "    tokenizer, senti_model, config = load_senti_model()   \n",
    "    summarizer = load_summ_model()\n",
    "\n",
    "    if torch.cuda.is_available():\n",
    "        diffusion = StableDiffusionPipeline.from_pretrained(\"runwayml/stable-diffusion-v1-5\", torch_dtype=torch.float16)\n",
    "        diffusion = diffusion.to(\"cuda\")\n",
    "    else: # gpu 안되면 이미지 생성 포기\n",
    "        diffusion = None\n",
    "        \n",
    "    app = DiaryService(diary, tokenizer, senti_model, config, summarizer, diffusion)\n",
    "    app.mainloop()"
   ]
  },
  {
   "cell_type": "code",
   "execution_count": 7,
   "id": "bf57c381-35ea-4a8a-aafb-47eabbfd064c",
   "metadata": {},
   "outputs": [
    {
     "name": "stdout",
     "output_type": "stream",
     "text": [
      "[{'summary_text': \"I'm at a loss about what to do next, and it doesn't seem easy to find a new job, which is worrying me a lot . Reunion with an old friend was disappointing . The conversation didn't flow as well as expected, and our interests had changed .\"}]\n",
      "3.9653267860412598\n"
     ]
    }
   ],
   "source": [
    "start = time.time()\n",
    "summarizer = pipeline(\"summarization\", model=\"Falconsai/text_summarization\")\n",
    "\n",
    "ARTICLE = \"\"\"\n",
    "Today was all about finding joy in the simple things. I spent the morning gardening, feeling the cool earth between my fingers and marveling at the growth of the plants I've nurtured. The afternoon was spent baking cookies, filling the house with the warm aroma of chocolate and vanilla. Sharing these cookies with my neighbors brought smiles all around, a reminder of how small acts of kindness can brighten a day.\n",
    "After hearing the news of restructuring at the company, I became unsure about the safety of my position. I'm at a loss about what to do next, and it doesn't seem easy to find a new job, which is worrying me a lot. The uncertain future feels like a heavy burden.\n",
    "Reunion with an old friend was disappointing. The conversation didn't flow as well as expected, and our interests had changed, leaving an awkwardness between us. On the way back, I felt heavy-hearted and thought a lot about how our relationship had changed. It was a day where the disappointment was as great as the expectations. Nevertheless I could great time with my family today.\n",
    "\"\"\"\n",
    "max_length = min(150, max(10, len(ARTICLE) // 2))\n",
    "print(summarizer(ARTICLE, max_length=max_length, min_length=30, do_sample=False))\n",
    "end = time.time()\n",
    "print(end - start)"
   ]
  },
  {
   "cell_type": "code",
   "execution_count": null,
   "id": "e65c024a-7a24-4c6a-91cc-f0ef8ad5cdd0",
   "metadata": {},
   "outputs": [],
   "source": [
    "start = time.time()\n",
    "summarizer = pipeline(\"summarization\", model=\"Falconsai/text_summarization\")\n",
    "\n",
    "ARTICLE = \"\"\"\n",
    "Today was all about finding joy in the simple things. I spent the morning gardening, feeling the cool earth between my fingers and marveling at the growth of the plants I've nurtured. The afternoon was spent baking cookies, filling the house with the warm aroma of chocolate and vanilla. Sharing these cookies with my neighbors brought smiles all around, a reminder of how small acts of kindness can brighten a day.\n",
    "After hearing the news of restructuring at the company, I became unsure about the safety of my position. I'm at a loss about what to do next, and it doesn't seem easy to find a new job, which is worrying me a lot. The uncertain future feels like a heavy burden.\n",
    "Reunion with an old friend was disappointing. The conversation didn't flow as well as expected, and our interests had changed, leaving an awkwardness between us. On the way back, I felt heavy-hearted and thought a lot about how our relationship had changed. It was a day where the disappointment was as great as the expectations. Nevertheless I could great time with my family today.\n",
    "\"\"\"\n",
    "max_length = min(150, max(10, len(ARTICLE) // 2))\n",
    "print(summarizer(ARTICLE, max_length=max_length, min_length=30, do_sample=False))\n",
    "end = time.time()\n",
    "print(end - start)"
   ]
  },
  {
   "cell_type": "code",
   "execution_count": 10,
   "id": "a6c909fb-7c2b-4f24-a5bf-a322270f3fa0",
   "metadata": {},
   "outputs": [
    {
     "name": "stdout",
     "output_type": "stream",
     "text": [
      "[{'summary_text': \"After hearing the news of restructuring at the company, I became unsure about the safety of my position. I'm at a loss about what to do next, and it doesn't seem easy to find a new job, which is worrying me a lot. The uncertain future feels like a heavy burden.\"}]\n",
      "15.841427087783813\n"
     ]
    }
   ],
   "source": [
    "from transformers import pipeline\n",
    "import time\n",
    "\n",
    "start = time.time()\n",
    "summarizer_2 = pipeline(\"summarization\", model=\"facebook/bart-large-cnn\")\n",
    "ARTICLE = \"\"\"\n",
    "Today was all about finding joy in the simple things. I spent the morning gardening, feeling the cool earth between my fingers and marveling at the growth of the plants I've nurtured. The afternoon was spent baking cookies, filling the house with the warm aroma of chocolate and vanilla. Sharing these cookies with my neighbors brought smiles all around, a reminder of how small acts of kindness can brighten a day.\n",
    "After hearing the news of restructuring at the company, I became unsure about the safety of my position. I'm at a loss about what to do next, and it doesn't seem easy to find a new job, which is worrying me a lot. The uncertain future feels like a heavy burden.\n",
    "I ventured into the great outdoors today, hiking through the local nature reserve. The tranquility of the forest, the sound of birds chirping, and the fresh air were incredibly rejuvenating. I paused often to take photos, capturing the beauty of the changing seasons. This escape into nature was a much-needed break from the digital world, grounding me in the present moment.\n",
    "Reunion with an old friend was disappointing. The conversation didn't flow as well as expected, and our interests had changed, leaving an awkwardness between us. On the way back, I felt heavy-hearted and thought a lot about how our relationship had changed. It was a day where the disappointment was as great as the expectations. Nevertheless I could great time with my family today.\n",
    "\"\"\"\n",
    "max_length = min(150, max(10, len(ARTICLE) // 2))\n",
    "print(summarizer_2(ARTICLE, max_length=max_length, min_length=30, do_sample=False))\n",
    "end = time.time()\n",
    "\n",
    "print(end - start)"
   ]
  },
  {
   "cell_type": "code",
   "execution_count": 16,
   "id": "0b7a36b6-e03e-48a7-8a73-0cc5eef0c8e2",
   "metadata": {},
   "outputs": [
    {
     "name": "stdout",
     "output_type": "stream",
     "text": [
      "[{'summary_text': \"After hearing the news of restructuring at the company, I became unsure about the safety of my position. I'm at a loss about what to do next, and it doesn't seem easy to find a new job, which is worrying me a lot. The uncertain future feels like a heavy burden.\"}]\n",
      "27.6564359664917\n"
     ]
    }
   ],
   "source": [
    "start = time.time()\n",
    "summarizer_3 = summarizer = pipeline(\"summarization\", model=\"facebook/bart-large-cnn\")\n",
    "\n",
    "ARTICLE = \"\"\"\n",
    "Today was all about finding joy in the simple things. I spent the morning gardening, feeling the cool earth between my fingers and marveling at the growth of the plants I've nurtured. The afternoon was spent baking cookies, filling the house with the warm aroma of chocolate and vanilla. Sharing these cookies with my neighbors brought smiles all around, a reminder of how small acts of kindness can brighten a day.\n",
    "After hearing the news of restructuring at the company, I became unsure about the safety of my position. I'm at a loss about what to do next, and it doesn't seem easy to find a new job, which is worrying me a lot. The uncertain future feels like a heavy burden.\n",
    "I ventured into the great outdoors today, hiking through the local nature reserve. The tranquility of the forest, the sound of birds chirping, and the fresh air were incredibly rejuvenating. I paused often to take photos, capturing the beauty of the changing seasons. This escape into nature was a much-needed break from the digital world, grounding me in the present moment.\n",
    "Reunion with an old friend was disappointing. The conversation didn't flow as well as expected, and our interests had changed, leaving an awkwardness between us. On the way back, I felt heavy-hearted and thought a lot about how our relationship had changed. It was a day where the disappointment was as great as the expectations. Nevertheless I could great time with my family today.\n",
    "\"\"\"\n",
    "max_length = min(150, max(10, len(ARTICLE) // 2))\n",
    "print(summarizer_2(ARTICLE, max_length=max_length, min_length=30, do_sample=False))\n",
    "end = time.time()\n",
    "\n",
    "print(end - start)"
   ]
  }
 ],
 "metadata": {
  "kernelspec": {
   "display_name": "Python 3 (ipykernel)",
   "language": "python",
   "name": "python3"
  },
  "language_info": {
   "codemirror_mode": {
    "name": "ipython",
    "version": 3
   },
   "file_extension": ".py",
   "mimetype": "text/x-python",
   "name": "python",
   "nbconvert_exporter": "python",
   "pygments_lexer": "ipython3",
   "version": "3.12.3"
  }
 },
 "nbformat": 4,
 "nbformat_minor": 5
}
